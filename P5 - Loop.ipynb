{
 "cells": [
  {
   "cell_type": "code",
   "execution_count": 3,
   "id": "773d8c62",
   "metadata": {
    "scrolled": true
   },
   "outputs": [
    {
     "name": "stdout",
     "output_type": "stream",
     "text": [
      "BWM\n",
      "Audi\n",
      "Subaru\n",
      "Mitsubishi\n"
     ]
    }
   ],
   "source": [
    "#Loop\n",
    "cars_list = ['bwm', 'audi', 'subaru', 'mitsubishi']\n",
    "for car in cars_list:\n",
    "    if car == 'bwm':\n",
    "        print(car.upper())\n",
    "    else:\n",
    "        print(car.title())"
   ]
  },
  {
   "cell_type": "code",
   "execution_count": 7,
   "id": "869b775f",
   "metadata": {},
   "outputs": [
    {
     "data": {
      "text/plain": [
       "False"
      ]
     },
     "execution_count": 7,
     "metadata": {},
     "output_type": "execute_result"
    }
   ],
   "source": [
    "#Equality\n",
    "car = 'bwm'\n",
    "car == 'bwm'"
   ]
  },
  {
   "cell_type": "code",
   "execution_count": 1,
   "id": "bab98861",
   "metadata": {},
   "outputs": [
    {
     "name": "stdout",
     "output_type": "stream",
     "text": [
      "Hold the anchovies!\n"
     ]
    }
   ],
   "source": [
    "#Inequality\n",
    "request_topping = 'mushrooms'\n",
    "if request_topping != 'anchovies':\n",
    "    print('Hold the anchovies!')"
   ]
  },
  {
   "cell_type": "code",
   "execution_count": 9,
   "id": "abbb9d2d",
   "metadata": {},
   "outputs": [
    {
     "name": "stdout",
     "output_type": "stream",
     "text": [
      "1\n",
      "1\n"
     ]
    }
   ],
   "source": [
    "#Number\n",
    "age_0, age_1 = 21, 22\n",
    "\n",
    "if (age_0>20) and (age_1>20):\n",
    "    print('1')\n",
    "else:\n",
    "    print('0')\n",
    "\n",
    "if (age_0<22) or (age_1<22):\n",
    "    print('1')\n",
    "else:\n",
    "    print('0')"
   ]
  },
  {
   "cell_type": "code",
   "execution_count": 14,
   "id": "a4ebc7ff",
   "metadata": {},
   "outputs": [
    {
     "name": "stdout",
     "output_type": "stream",
     "text": [
      "Marrie, you can post anything you want!\n"
     ]
    }
   ],
   "source": [
    "#In & Not in Keyword\n",
    "country_list = ['Vietnam', 'Russia', 'China', 'North Korea', 'Laos', 'Myanmar']\n",
    "'South Korea' in country_list\n",
    "\n",
    "banned_members = ['Vu', 'Hai', 'Kavany', 'Joe']\n",
    "user = 'marrie'\n",
    "\n",
    "if user not in banned_members:\n",
    "    print(f'{user.title()}, you can post anything you want!')"
   ]
  },
  {
   "cell_type": "code",
   "execution_count": 17,
   "id": "9a06c4dd",
   "metadata": {},
   "outputs": [
    {
     "name": "stdout",
     "output_type": "stream",
     "text": [
      "\n",
      "\n",
      "\n",
      "\n",
      "\n",
      "\n",
      "\n",
      "\n",
      "\n",
      "\n",
      "\n",
      "\n"
     ]
    }
   ],
   "source": [
    "#Calendar\n",
    "import calendar\n",
    "\n",
    "for month in range(12):\n",
    "    print(calendar.month(2022, month + 1))"
   ]
  },
  {
   "cell_type": "code",
   "execution_count": 36,
   "id": "fbf9ac80",
   "metadata": {},
   "outputs": [
    {
     "name": "stdout",
     "output_type": "stream",
     "text": [
      "time.struct_time(tm_year=2022, tm_mon=1, tm_mday=22, tm_hour=15, tm_min=10, tm_sec=11, tm_wday=5, tm_yday=22, tm_isdst=0)\n"
     ]
    }
   ],
   "source": [
    "import time\n",
    "\n",
    "localtime = time.localtime(time.time())\n",
    "print(localtime)"
   ]
  },
  {
   "cell_type": "code",
   "execution_count": 42,
   "id": "280b77f7",
   "metadata": {},
   "outputs": [
    {
     "name": "stdout",
     "output_type": "stream",
     "text": [
      "gà\n"
     ]
    }
   ],
   "source": [
    "#Try It Yourself\n",
    "alien_color = 'red'\n",
    "\n",
    "if alien_color == 'green':\n",
    "    print('You earn 5 points!')\n",
    "else:\n",
    "    print('gà')"
   ]
  },
  {
   "cell_type": "code",
   "execution_count": 2,
   "id": "5038734b",
   "metadata": {},
   "outputs": [
    {
     "name": "stdout",
     "output_type": "stream",
     "text": [
      "Hello Vu, thank you for logging in again\n",
      "Hello Luong, thank you for logging in again\n",
      "Hello Ha, thank you for logging in again\n",
      "Hello Nguyet, thank you for logging in again\n",
      "Hello Admin, would you like to see a status report?\n"
     ]
    }
   ],
   "source": [
    "#Try It Yourself\n",
    "#5.8\n",
    "\n",
    "names_list = ['Vu', 'Luong', 'Ha', 'Nguyet', 'Admin']\n",
    "\n",
    "for name in names_list:\n",
    "    if name.lower() == 'admin':\n",
    "        print(f'Hello {name}, would you like to see a status report?')\n",
    "    else:\n",
    "        print(f'Hello {name}, thank you for logging in again')"
   ]
  },
  {
   "cell_type": "code",
   "execution_count": 3,
   "id": "8933be52",
   "metadata": {},
   "outputs": [
    {
     "name": "stdout",
     "output_type": "stream",
     "text": [
      "We need to find some users!\n"
     ]
    }
   ],
   "source": [
    "#5.9\n",
    "names_list = []\n",
    "\n",
    "if names_list:\n",
    "    for name in names_list:\n",
    "        if name.lower() == 'admin':\n",
    "            print(f'Hello {name}, would you like to see a status report?')\n",
    "        else:\n",
    "            print(f'Hello {name}, thank you for logging in again')\n",
    "else:\n",
    "    print('We need to find some users!')"
   ]
  },
  {
   "cell_type": "code",
   "execution_count": 8,
   "id": "a9a08a66",
   "metadata": {},
   "outputs": [
    {
     "name": "stdout",
     "output_type": "stream",
     "text": [
      "hoang vu has been used, please enter a new username!\n",
      "Minh Duc is available!\n",
      "luong has been used, please enter a new username!\n"
     ]
    }
   ],
   "source": [
    "#5.10\n",
    "current_users = ['Alice', 'Luong', 'Hoang Vu', 'Cavany', 'James Bond']\n",
    "new_users = ['hoang vu', 'Minh Duc', 'luong']\n",
    "\n",
    "lower_current_users = []\n",
    "for user in current_users:\n",
    "    lower_current_users.append(user.lower())\n",
    "\n",
    "for n_user in new_users:\n",
    "    if n_user.lower() in lower_current_users:\n",
    "        print(f'{n_user} has been used, please enter a new username!')\n",
    "    else:\n",
    "        print(f'{n_user} is available!')"
   ]
  },
  {
   "cell_type": "code",
   "execution_count": 9,
   "id": "2f0075dd",
   "metadata": {},
   "outputs": [
    {
     "name": "stdout",
     "output_type": "stream",
     "text": [
      "1st \n",
      "2nd \n",
      "3rd \n",
      "4th \n",
      "5th \n",
      "6th \n",
      "7th \n",
      "8th \n",
      "9th \n"
     ]
    }
   ],
   "source": [
    "#5.11\n",
    "ordinal_numbers = list(range(1,10))\n",
    "\n",
    "for number in ordinal_numbers:\n",
    "    if number == 1:\n",
    "        print('1st ')\n",
    "    elif number == 2:\n",
    "        print('2nd ')\n",
    "    elif number == 3:\n",
    "        print('3rd ')\n",
    "    else:\n",
    "        print(f'{number}th ')"
   ]
  },
  {
   "cell_type": "code",
   "execution_count": null,
   "id": "da59ae07",
   "metadata": {},
   "outputs": [],
   "source": []
  }
 ],
 "metadata": {
  "kernelspec": {
   "display_name": "Python 3",
   "language": "python",
   "name": "python3"
  },
  "language_info": {
   "codemirror_mode": {
    "name": "ipython",
    "version": 3
   },
   "file_extension": ".py",
   "mimetype": "text/x-python",
   "name": "python",
   "nbconvert_exporter": "python",
   "pygments_lexer": "ipython3",
   "version": "3.8.8"
  }
 },
 "nbformat": 4,
 "nbformat_minor": 5
}
