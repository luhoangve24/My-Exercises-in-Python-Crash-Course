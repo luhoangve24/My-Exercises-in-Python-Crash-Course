{
 "cells": [
  {
   "cell_type": "code",
   "execution_count": 1,
   "id": "8d513268",
   "metadata": {},
   "outputs": [
    {
     "name": "stdout",
     "output_type": "stream",
     "text": [
      "Press q any time to quit\n",
      "Enter city name: 36\n",
      "Enter country name: Hai duong\n",
      "36, Hai duong\n",
      "Press q any time to quit\n",
      "Enter city name: q\n"
     ]
    }
   ],
   "source": [
    "#Try It Yourself\n",
    "#8.6\n",
    "\n",
    "def city_country(city, country):\n",
    "    location = f\"{city}, {country}\"\n",
    "    return location\n",
    "\n",
    "while True:\n",
    "    print(\"Press q any time to quit\")\n",
    "    city = input(\"Enter city name: \")\n",
    "    if city == 'q':\n",
    "        break\n",
    "    country = input(\"Enter country name: \")\n",
    "    if country == 'q':\n",
    "        break\n",
    "    location = city_country(city, country)\n",
    "    print(location)"
   ]
  },
  {
   "cell_type": "code",
   "execution_count": 8,
   "id": "11ac4146",
   "metadata": {},
   "outputs": [
    {
     "name": "stdout",
     "output_type": "stream",
     "text": [
      "Enter the artist's name Press 'q' to stop any time: Vu\n",
      "Enter the title of the album: CC\n",
      "Do you want to enter the number of songs of the album?:no\n",
      "Enter the artist's name Press 'q' to stop any time: q\n",
      "Artist: Vu\n",
      "\tAlbum's title: CC\n",
      "\tNumber of Songs: No information\n"
     ]
    }
   ],
   "source": [
    "#8.7\n",
    "\n",
    "def make_album(artist, title, numsongs=None):\n",
    "    alb = {}\n",
    "    alb['artist'] = artist\n",
    "    alb['title'] = title\n",
    "    if numsongs:\n",
    "        alb['number of songs'] = numsongs\n",
    "    return alb\n",
    "\n",
    "albums_list = []\n",
    "\n",
    "while True:\n",
    "    numsongs = None\n",
    "    artist = input(\"Enter the artist's name \"\n",
    "                   \"Press 'q' to stop any time: \")\n",
    "    if artist == 'q':\n",
    "        break\n",
    "        \n",
    "    title = input(\"Enter the title of the album: \")\n",
    "    if title == 'q':\n",
    "        break\n",
    "        \n",
    "    number_songs = input(\"Do you want to enter\"\n",
    "                     \" the number of songs of the album?:\")\n",
    "    if number_songs == 'yes':\n",
    "        number_songs = input(\"Please input: \")\n",
    "        number_songs = int(number_songs)\n",
    "        album = make_album(artist, title, numsongs = number_songs)\n",
    "    elif numsongs == 'q':\n",
    "        break\n",
    "    else:\n",
    "        album = make_album(artist, title)\n",
    "\n",
    "    albums_list.append(album)\n",
    "\n",
    "for album in albums_list:\n",
    "    name = album['artist']\n",
    "    title = album['title']\n",
    "    nos = album.get('number of songs', 'No information')\n",
    "    print(f\"Artist: {name}\")\n",
    "    print(f\"\\tAlbum's title: {title}\\n\"\n",
    "          f\"\\tNumber of Songs: {nos}\")"
   ]
  },
  {
   "cell_type": "code",
   "execution_count": 2,
   "id": "25d2d92c",
   "metadata": {},
   "outputs": [
    {
     "name": "stdout",
     "output_type": "stream",
     "text": [
      "Hi, I'm Vu. Nice to meet you\n",
      "I'm 20 years old\n",
      "I have studied in Banking Academy for 2 years\n"
     ]
    }
   ],
   "source": [
    "#Try It Yourself\n",
    "#8.9\n",
    "messages_list = [\n",
    "    \"Hi, I'm Vu. Nice to meet you\",\n",
    "    \"I'm 20 years old\",\n",
    "    \"I have studied in Banking Academy for 2 years\",\n",
    "]\n",
    "    \n",
    "def show_messages(mes_list):\n",
    "    for message in mes_list:\n",
    "        print(message)\n",
    "        \n",
    "show_messages(messages_list)"
   ]
  },
  {
   "cell_type": "code",
   "execution_count": 15,
   "id": "729e4a9d",
   "metadata": {},
   "outputs": [
    {
     "name": "stdout",
     "output_type": "stream",
     "text": [
      "Sent: Hi, I'm Vu. Nice to meet you\n",
      "Sent: I have studied in Banking Academy for 2 years\n",
      "Sent: I'm 20 years old\n"
     ]
    }
   ],
   "source": [
    "#8.10\n",
    "messages_list = [\n",
    "    \"Hi, I'm Vu. Nice to meet you\",\n",
    "    \"I'm 20 years old\",\n",
    "    \"I have studied in Banking Academy for 2 years\"\n",
    "]\n",
    "sent_list = []\n",
    "    \n",
    "def show_messages(mes_list):\n",
    "    for message in mes_list:\n",
    "        print(message)\n",
    "\n",
    "def sent_messages(mes_list, sent_list):\n",
    "    while mes_list:\n",
    "        mes_list.reverse()\n",
    "        mes = mes_list.pop()\n",
    "        print(f\"Sent: {mes}\")\n",
    "        sent_list.append(mes)\n",
    "\n",
    "sent_messages(messages_list, sent_list)"
   ]
  },
  {
   "cell_type": "code",
   "execution_count": 18,
   "id": "850fbc48",
   "metadata": {},
   "outputs": [
    {
     "name": "stdout",
     "output_type": "stream",
     "text": [
      "Sent: Hi, I'm Vu. Nice to meet you\n",
      "Sent: I have studied in Banking Academy for 2 years\n",
      "Sent: I'm 20 years old\n",
      "[\"Hi, I'm Vu. Nice to meet you\", \"I'm 20 years old\", 'I have studied in Banking Academy for 2 years'] [\"Hi, I'm Vu. Nice to meet you\", 'I have studied in Banking Academy for 2 years', \"I'm 20 years old\"]\n"
     ]
    }
   ],
   "source": [
    "#8.11\n",
    "messages_list = [\n",
    "    \"Hi, I'm Vu. Nice to meet you\",\n",
    "    \"I'm 20 years old\",\n",
    "    \"I have studied in Banking Academy for 2 years\"\n",
    "]\n",
    "sent_list = []\n",
    "\n",
    "def sent_messages(mes_list, sent_list):\n",
    "    while mes_list:\n",
    "        mes_list.reverse()\n",
    "        mes = mes_list.pop()\n",
    "        print(f\"Sent: {mes}\")\n",
    "        sent_list.append(mes)\n",
    "\n",
    "sent_messages(messages_list[:], sent_list)\n",
    "print(messages_list, sent_list)"
   ]
  },
  {
   "cell_type": "code",
   "execution_count": null,
   "id": "edef9c44",
   "metadata": {},
   "outputs": [],
   "source": [
    "#Try It Yourself\n",
    "#8.12\n"
   ]
  },
  {
   "cell_type": "code",
   "execution_count": null,
   "id": "d50884d2",
   "metadata": {},
   "outputs": [],
   "source": []
  }
 ],
 "metadata": {
  "kernelspec": {
   "display_name": "Python 3",
   "language": "python",
   "name": "python3"
  },
  "language_info": {
   "codemirror_mode": {
    "name": "ipython",
    "version": 3
   },
   "file_extension": ".py",
   "mimetype": "text/x-python",
   "name": "python",
   "nbconvert_exporter": "python",
   "pygments_lexer": "ipython3",
   "version": "3.8.8"
  }
 },
 "nbformat": 4,
 "nbformat_minor": 5
}
