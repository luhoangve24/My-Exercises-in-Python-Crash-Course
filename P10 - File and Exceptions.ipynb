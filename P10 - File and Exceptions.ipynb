{
 "cells": [
  {
   "cell_type": "code",
   "execution_count": 7,
   "id": "406e0c4c",
   "metadata": {},
   "outputs": [
    {
     "name": "stdout",
     "output_type": "stream",
     "text": [
      "''''''' alkadlsdjijwiqhjeihiwoehbnjkzxcbjdbjfbjdsfj;;;;;;;;;;;;;;;;;;;;\n"
     ]
    }
   ],
   "source": [
    "# Try It Yourself\n",
    "# 10.1\n",
    "file_path = 'E:\\\\Downloads\\\\Tieuluan\\\\TL.txt'\n",
    "\n",
    "with open(file_path) as file_object:\n",
    "    contents = file_object.read()\n",
    "print(contents)"
   ]
  },
  {
   "cell_type": "code",
   "execution_count": 8,
   "id": "ce768b4d",
   "metadata": {},
   "outputs": [
    {
     "name": "stdout",
     "output_type": "stream",
     "text": [
      "I like cats\n"
     ]
    }
   ],
   "source": [
    "# 10.2\n",
    "message = \"I like cats\"\n",
    "message.replace('cats', 'dogs')\n",
    "print(message)"
   ]
  },
  {
   "cell_type": "code",
   "execution_count": 3,
   "id": "7275074f",
   "metadata": {},
   "outputs": [
    {
     "name": "stdout",
     "output_type": "stream",
     "text": [
      "Cc\n"
     ]
    }
   ],
   "source": [
    "try:\n",
    "    print(5/0)\n",
    "except ZeroDivisionError:\n",
    "    print(\"Cc\")"
   ]
  },
  {
   "cell_type": "code",
   "execution_count": 4,
   "id": "f0faec44",
   "metadata": {},
   "outputs": [
    {
     "name": "stdout",
     "output_type": "stream",
     "text": [
      "Input number 1: 2\n",
      "Input number 2: 0\n",
      "Number 2 mustn't be 0\n",
      "Input number 1: q\n"
     ]
    }
   ],
   "source": [
    "while True:\n",
    "    num1 = input(\"Input number 1: \")\n",
    "    if num1 == 'q':\n",
    "            break\n",
    "    num2 = input(\"Input number 2: \")\n",
    "    if num2 == 'q':\n",
    "            break\n",
    "    try:\n",
    "        answer = int(num1)/int(num2)\n",
    "    except ZeroDivisionError:\n",
    "        print(\"Number 2 mustn't be 0\")\n",
    "    else:\n",
    "        print(answer)"
   ]
  },
  {
   "cell_type": "code",
   "execution_count": 5,
   "id": "7281e66b",
   "metadata": {},
   "outputs": [
    {
     "name": "stdout",
     "output_type": "stream",
     "text": [
      "Please input a number: cacw\n",
      "Please! It isn't a number!?\n"
     ]
    }
   ],
   "source": [
    "# Try It Yourself\n",
    "# 10.6\n",
    "try:\n",
    "    number = input(\"Please input a number: \")\n",
    "    number = int(number)\n",
    "except ValueError:\n",
    "    print(\"Please! It isn't a number!?\")\n",
    "else:\n",
    "    print(f\"Your number: {number}\")\n"
   ]
  },
  {
   "cell_type": "code",
   "execution_count": null,
   "id": "1bab64dc",
   "metadata": {},
   "outputs": [],
   "source": [
    "# 10.7"
   ]
  }
 ],
 "metadata": {
  "kernelspec": {
   "display_name": "Python 3",
   "language": "python",
   "name": "python3"
  },
  "language_info": {
   "codemirror_mode": {
    "name": "ipython",
    "version": 3
   },
   "file_extension": ".py",
   "mimetype": "text/x-python",
   "name": "python",
   "nbconvert_exporter": "python",
   "pygments_lexer": "ipython3",
   "version": "3.8.8"
  }
 },
 "nbformat": 4,
 "nbformat_minor": 5
}
