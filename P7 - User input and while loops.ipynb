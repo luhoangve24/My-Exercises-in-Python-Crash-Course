{
 "cells": [
  {
   "cell_type": "code",
   "execution_count": 2,
   "id": "ca3375e2",
   "metadata": {},
   "outputs": [
    {
     "name": "stdout",
     "output_type": "stream",
     "text": [
      "Tell me something, and I will repeat it back to you!: Hello man!\n",
      "Hello man!\n"
     ]
    }
   ],
   "source": [
    "#Input()\n",
    "message = input(\"Tell me something, and I will repeat it back to you!: \")\n",
    "print(message)"
   ]
  },
  {
   "cell_type": "code",
   "execution_count": 1,
   "id": "539a11c8",
   "metadata": {},
   "outputs": [
    {
     "name": "stdout",
     "output_type": "stream",
     "text": [
      "If you tell us who you are, we can personalize the messages you see.\n",
      "What is your name? Lê Hoàng Vũ\n",
      "Hello, Lê Hoàng Vũ\n"
     ]
    }
   ],
   "source": [
    "prompt = \"If you tell us who you are, we can personalize the messages you see.\"\n",
    "prompt += \"\\nWhat is your name? \"\n",
    "\n",
    "name = input(prompt)\n",
    "print(f\"Hello, {name}\")"
   ]
  },
  {
   "cell_type": "code",
   "execution_count": 1,
   "id": "0f48d22f",
   "metadata": {},
   "outputs": [
    {
     "name": "stdout",
     "output_type": "stream",
     "text": [
      "Please enter kind of toppings you want to add:\n",
      "Enter 'quit' if you want to stop fried chicken\n",
      "\n",
      "You'll add fried chicken toppings to this pizza!\n",
      "Please enter kind of toppings you want to add:\n",
      "Enter 'quit' if you want to stop tomatoes\n",
      "\n",
      "You'll add tomatoes toppings to this pizza!\n",
      "Please enter kind of toppings you want to add:\n",
      "Enter 'quit' if you want to stop quit\n"
     ]
    }
   ],
   "source": [
    "#Try It Yourself\n",
    "#7.4\n",
    "message = \"Please enter kind of toppings you want to add:\"\n",
    "message += \"\\nEnter 'quit' if you want to stop \"\n",
    "\n",
    "while True:\n",
    "    order = input(message)\n",
    "    \n",
    "    if order == 'quit':\n",
    "        break\n",
    "    else:\n",
    "        print(f\"\\nYou'll add {order} toppings to this pizza!\")\n",
    "    "
   ]
  },
  {
   "cell_type": "code",
   "execution_count": 4,
   "id": "dc399530",
   "metadata": {},
   "outputs": [
    {
     "name": "stdout",
     "output_type": "stream",
     "text": [
      "I added chilli sauce to your sandwich !\n",
      "I added cabbage to your sandwich !\n",
      "I added cheese to your sandwich !\n",
      "I added tomatoes to your sandwich !\n",
      "I added salad to your sandwich !\n",
      "I added bacon to your sandwich !\n",
      "Done! Have a nice meal\n"
     ]
    }
   ],
   "source": [
    "#Try It Yourself\n",
    "#7.8 Deli\n",
    "sandwich_orders = ['bacon', 'salad', 'tomatoes', 'cheese', 'cabbage', 'chilli sauce']\n",
    "sandwich_done = []\n",
    "while sandwich_orders:\n",
    "    material = sandwich_orders.pop()\n",
    "    sandwich_done.append(material)\n",
    "    print(f\"I added {material} to your sandwich !\")\n",
    "\n",
    "print(\"Done! Have a nice meal\")"
   ]
  },
  {
   "cell_type": "code",
   "execution_count": 5,
   "id": "5476c22c",
   "metadata": {},
   "outputs": [
    {
     "name": "stdout",
     "output_type": "stream",
     "text": [
      "We have run out of pastrami! Sorry for the inconvenience\n",
      "['egg', 'nutella', 'seafood', 'chicken']\n"
     ]
    }
   ],
   "source": [
    "#7.9 No Pastrami\n",
    "sandwich_orders = ['egg', 'nutella', 'pastrami', 'seafood', 'chicken', 'pastrami', 'pastrami']\n",
    "print(\"We have run out of pastrami! Sorry for the inconvenience\")\n",
    "\n",
    "while 'pastrami' in sandwich_orders:\n",
    "    sandwich_orders.remove('pastrami')\n",
    "    \n",
    "print(sandwich_orders)"
   ]
  },
  {
   "cell_type": "code",
   "execution_count": 9,
   "id": "b868ff73",
   "metadata": {},
   "outputs": [
    {
     "name": "stdout",
     "output_type": "stream",
     "text": [
      "Firstly, what's your name ?: vu\n",
      "So, your place is?: tam dao\n",
      "Would you like to let another person respond? (yes/no): no\n",
      "The following is the answers of the response\n",
      "vu: tam dao\n"
     ]
    }
   ],
   "source": [
    "#7.10 Dream Vacation\n",
    "responses = {}\n",
    "prompt = \"If you could visit one place in the world, where would you go?\"\n",
    "\n",
    "while True:\n",
    "    name = input(\"Firstly, what's your name ?: \")\n",
    "    location = input(\"So, your place is?: \")\n",
    "    responses[name] = location\n",
    "    \n",
    "    repeat = input(\"Would you like to let another person respond? (yes/no): \")\n",
    "    if repeat == 'no':\n",
    "        break\n",
    "    print(\"\\n\")\n",
    "    \n",
    "print(\"The following is the answers of the response\")\n",
    "for name, location in responses.items():\n",
    "    print(f\"{name}: {location}\")\n",
    "    "
   ]
  }
 ],
 "metadata": {
  "kernelspec": {
   "display_name": "Python 3",
   "language": "python",
   "name": "python3"
  },
  "language_info": {
   "codemirror_mode": {
    "name": "ipython",
    "version": 3
   },
   "file_extension": ".py",
   "mimetype": "text/x-python",
   "name": "python",
   "nbconvert_exporter": "python",
   "pygments_lexer": "ipython3",
   "version": "3.8.8"
  }
 },
 "nbformat": 4,
 "nbformat_minor": 5
}
