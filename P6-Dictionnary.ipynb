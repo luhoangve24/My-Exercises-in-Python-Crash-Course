{
 "cells": [
  {
   "cell_type": "code",
   "execution_count": null,
   "id": "1614d9c0",
   "metadata": {},
   "outputs": [],
   "source": [
    "alien_0 = {'color': 'green', 'points': 5}\n",
    "print(alien_0)\n",
    "alien_0['x_position'] = 0\n",
    "alien_0['y_position'] = 25\n",
    "print(alien_0)"
   ]
  },
  {
   "cell_type": "code",
   "execution_count": 5,
   "id": "6d471aaf",
   "metadata": {},
   "outputs": [
    {
     "name": "stdout",
     "output_type": "stream",
     "text": [
      "The new position of alien is (27, 0)\n",
      "{'x_position': 27, 'y_position': 0}\n"
     ]
    }
   ],
   "source": [
    "#real situation\n",
    "alien_0 = {'x_position': 25, 'y_position': 0, 'speed': 'medium'}\n",
    "\n",
    "if alien_0['speed'] == 'slow':\n",
    "    x_increment = 1\n",
    "elif alien_0['speed'] == 'medium':\n",
    "    x_increment = 2\n",
    "else:\n",
    "    x_increment = 3\n",
    "\n",
    "alien_0['x_position'] = x_increment + alien_0['x_position']\n",
    "\n",
    "print(f\"The new position of alien is ({alien_0['x_position']}, {alien_0['y_position']})\")\n",
    "\n",
    "del alien_0['speed']\n",
    "\n",
    "print(alien_0)"
   ]
  },
  {
   "cell_type": "code",
   "execution_count": 11,
   "id": "f59b21e5",
   "metadata": {},
   "outputs": [
    {
     "name": "stdout",
     "output_type": "stream",
     "text": [
      "Vu's favorite programming language is PYTHON\n",
      "This name doesn't exist\n"
     ]
    }
   ],
   "source": [
    "favorite_languages = {\n",
    "    'Vu': 'Python',\n",
    "    'Luong': 'Python',\n",
    "    'Nguyet': 'HTML',\n",
    "    'Ha': 'C++',\n",
    "    }\n",
    "\n",
    "language = favorite_languages['Vu'].upper()\n",
    "print(f\"Vu's favorite programming language is {language}\")\n",
    "\n",
    "Ha_Bui = favorite_languages.get('HaB', \"This name doesn't exist\")\n",
    "print(Ha_Bui)"
   ]
  },
  {
   "cell_type": "code",
   "execution_count": 18,
   "id": "cb647df5",
   "metadata": {},
   "outputs": [
    {
     "name": "stdout",
     "output_type": "stream",
     "text": [
      "My mom's name is Nguyen Thi Thanh Huyen.        She is 43 now.\n"
     ]
    }
   ],
   "source": [
    "#Try It Yourself\n",
    "#6.1\n",
    "mom_information = {\n",
    "    'name': 'Nguyen Thi Thanh Huyen',\n",
    "    'age': 43,\n",
    "    'DoB': '09/10/1979',\n",
    "    'Phone': '+84942050113',\n",
    "    'Facebook': 'https://www.facebook.com/huyen.motmotba',\n",
    "    'Location': 'Soc Son, Ha Noi',\n",
    "}\n",
    "\n",
    "print(f\"My mom's name is {mom_information['name']}.\\\n",
    "She is {mom_information['age']} now.\")"
   ]
  },
  {
   "cell_type": "code",
   "execution_count": null,
   "id": "883defae",
   "metadata": {},
   "outputs": [],
   "source": [
    "#6.2\n",
    "favorite_numbers = {\n",
    "    'John': 1,\n",
    "    'Kavany': 2,\n",
    "    'Leopard': 3,\n",
    "    'Quan': 69,\n",
    "    'Vu': 7,\n",
    "    'Linh': 0,\n",
    "}"
   ]
  },
  {
   "cell_type": "code",
   "execution_count": 8,
   "id": "18815ae6",
   "metadata": {},
   "outputs": [
    {
     "name": "stdout",
     "output_type": "stream",
     "text": [
      "Ferrari\n",
      "{'Brand': 'Ferrari', 'Color': 'Red Wine', 'Stock': 4, 'insurance': '10 years'}\n"
     ]
    }
   ],
   "source": [
    "car_informations = {\n",
    "    'Brand': 'Ferrari',\n",
    "    'Color': 'Red Wine',\n",
    "    'Price': '1.000.000,00$',\n",
    "    'Stock': 4,\n",
    "    'insurance': '10 years'\n",
    "}\n",
    "car_seats = car_informations.get('Brand', 'No informations')\n",
    "print(car_seats)\n",
    "\n",
    "del car_informations['Price']\n",
    "print(car_informations) "
   ]
  },
  {
   "cell_type": "code",
   "execution_count": 14,
   "id": "d6eceb87",
   "metadata": {},
   "outputs": [
    {
     "name": "stdout",
     "output_type": "stream",
     "text": [
      "\n",
      "Brand: Ferrari\n",
      "\n",
      "Color: Red Wine\n",
      "\n",
      "Price: 1.000.000,00$\n",
      "\n",
      "Stock: 4\n",
      "\n",
      "Insurance: 10 years\n"
     ]
    }
   ],
   "source": [
    "#Loop All key-value pair\n",
    "\n",
    "car_informations = {\n",
    "    'Brand': 'Ferrari',\n",
    "    'Color': 'Red Wine',\n",
    "    'Price': '1.000.000,00$',\n",
    "    'Stock': 4,\n",
    "    'Insurance': '10 years'\n",
    "}\n",
    "\n",
    "for key, value in car_informations.items():\n",
    "    print(f\"\\n{key}: {value}\")"
   ]
  },
  {
   "cell_type": "code",
   "execution_count": 19,
   "id": "ec379947",
   "metadata": {},
   "outputs": [
    {
     "name": "stdout",
     "output_type": "stream",
     "text": [
      "Here are people of favorite languages polling list:\n",
      "\n",
      "Vu\n",
      "\n",
      "Luong\n",
      "\n",
      "Nguyet\n",
      "\n",
      "Ha\n"
     ]
    }
   ],
   "source": [
    "#Loop all the keys\n",
    "\n",
    "favorite_languages = {\n",
    "    'Vu': 'Python',\n",
    "    'Luong': 'Python',\n",
    "    'Nguyet': 'HTML',\n",
    "    'Ha': 'C++',\n",
    "    }\n",
    "\n",
    "print(\"Here are people of favorite languages polling list:\")\n",
    "for name in favorite_languages.keys(): #You can use without .keys() instead\n",
    "    print(f\"\\n{name.title()}\")"
   ]
  },
  {
   "cell_type": "code",
   "execution_count": 22,
   "id": "36d9132f",
   "metadata": {},
   "outputs": [
    {
     "name": "stdout",
     "output_type": "stream",
     "text": [
      "Hi Vu\n",
      "Hi Luong\n",
      "\tLuong, you like PYTHON!\n",
      "Hi Nguyet\n",
      "Hi Ha\n",
      "Thu, take our poll!\n"
     ]
    }
   ],
   "source": [
    "#My friend\n",
    "\n",
    "favorite_languages = {\n",
    "    'Vu': 'Python',\n",
    "    'Luong': 'Python',\n",
    "    'Nguyet': 'HTML',\n",
    "    'Ha': 'C++',\n",
    "    }\n",
    "\n",
    "my_friends = ['Luong']\n",
    "\n",
    "for name in favorite_languages:\n",
    "    print(f\"Hi {name.title()}\")\n",
    "    \n",
    "    if name in my_friends:\n",
    "        language = favorite_languages[name].upper()\n",
    "        print(f\"\\t{name}, you like {language}!\")\n",
    "        \n",
    "if 'Thu' not in favorite_languages:\n",
    "    print('Thu, take our poll!')"
   ]
  },
  {
   "cell_type": "code",
   "execution_count": 24,
   "id": "eda130bd",
   "metadata": {},
   "outputs": [
    {
     "name": "stdout",
     "output_type": "stream",
     "text": [
      "Vu, thank you for taking the poll\n",
      "Nguyet, thank you for taking the poll\n",
      "Luong, thank you for taking the poll\n",
      "Ha, thank you for taking the poll\n"
     ]
    }
   ],
   "source": [
    "#Sort dictionary temporarily\n",
    "\n",
    "favorite_languages = {\n",
    "    'Vu': 'Python',\n",
    "    'Luong': 'Python',\n",
    "    'Nguyet': 'HTML',\n",
    "    'Ha': 'C++',\n",
    "    }\n",
    "\n",
    "for name in sorted(favorite_languages.keys()):\n",
    "    print(f\"{name.title()}, thank you for taking the poll\")"
   ]
  },
  {
   "cell_type": "code",
   "execution_count": 29,
   "id": "22f6c909",
   "metadata": {},
   "outputs": [
    {
     "name": "stdout",
     "output_type": "stream",
     "text": [
      "The following languages have been mentioned:\n",
      "\n",
      "Python\n",
      "\n",
      "Html\n",
      "\n",
      "C++\n"
     ]
    }
   ],
   "source": [
    "#Loop all the values and unique values (non-repeative elements)\n",
    "\n",
    "favorite_languages = {\n",
    "    'Vu': 'Python',\n",
    "    'Luong': 'Python',\n",
    "    'Nguyet': 'HTML',\n",
    "    'Ha': 'C++',\n",
    "    }\n",
    "\n",
    "print(\"The following languages have been mentioned:\")\n",
    "for value in set(favorite_languages.values()):\n",
    "    print(f\"\\n{value.title()}\")"
   ]
  },
  {
   "cell_type": "code",
   "execution_count": 33,
   "id": "ef907ef1",
   "metadata": {},
   "outputs": [
    {
     "data": {
      "text/plain": [
       "{'CSS', 'HTML', 'JavaScripts', 'Python', 'Ruby'}"
      ]
     },
     "execution_count": 33,
     "metadata": {},
     "output_type": "execute_result"
    }
   ],
   "source": [
    "#Set and Dictionaries\n",
    "\n",
    "languages = {'Python', 'Ruby', 'HTML', 'CSS', 'JavaScripts', 'Python'}\n",
    "languages"
   ]
  },
  {
   "cell_type": "code",
   "execution_count": 36,
   "id": "d98d95bd",
   "metadata": {},
   "outputs": [
    {
     "name": "stdout",
     "output_type": "stream",
     "text": [
      "\n",
      "Symbol Comma, meaning: used in writing to separate parts of a sentence\n",
      "\n",
      "Symbol Apostrophe, meaning: used in writing to show when a letter or a number has been left out\n",
      "\n",
      "Symbol Parentheses, meaning: around a word, phrase, or sentencein a piece of writing\n",
      "\n",
      "Symbol Colon, meaning: used in writing esp.\n",
      "\n",
      "Symbol Asterisk, meaning: used to refer readers\n"
     ]
    }
   ],
   "source": [
    "#Try It Yourself\n",
    "\n",
    "#6.4\n",
    "\n",
    "symbols_dic = {\n",
    "    'comma': 'used in writing to separate parts of a sentence',\n",
    "    'apostrophe': 'used in writing to show when a letter \\\n",
    "or a number has been left out',\n",
    "    'parentheses': 'around a word, phrase, or sentence\\\n",
    "in a piece of writing',\n",
    "    'colon': 'used in writing esp.',\n",
    "    'asterisk': 'used to refer readers'\n",
    "}\n",
    "\n",
    "for symbol, define in symbols_dic.items():\n",
    "    print(f\"\\nSymbol {symbol.title()}, meaning: {define}\")"
   ]
  },
  {
   "cell_type": "code",
   "execution_count": 39,
   "id": "9a09c989",
   "metadata": {},
   "outputs": [
    {
     "name": "stdout",
     "output_type": "stream",
     "text": [
      "\n",
      "The Mekong runs through Cuu Long\n",
      "\n",
      "The Red runs through Ha Noi\n",
      "\n",
      "The Han runs through Da Nang\n"
     ]
    }
   ],
   "source": [
    "#6.5 Rivers\n",
    "\n",
    "rivers_name = {\n",
    "    'Mekong': 'Cuu Long',\n",
    "    'Red': 'Ha Noi',\n",
    "    'Han': 'Da Nang',\n",
    "}\n",
    "\n",
    "for name in rivers_name.keys():\n",
    "    s_country = rivers_name[name]\n",
    "    print(f\"\\nThe {name} runs through {s_country}\")"
   ]
  },
  {
   "cell_type": "code",
   "execution_count": 44,
   "id": "54d4e422",
   "metadata": {},
   "outputs": [
    {
     "name": "stdout",
     "output_type": "stream",
     "text": [
      "dict_keys(['Vu', 'Luong', 'Nguyet', 'Ha'])\n",
      "\n",
      "Thanks Luong!\n",
      "\n",
      "Thanks Vu!\n",
      "\n",
      "Please Tuan!\n",
      "\n",
      "Please Minh!\n",
      "\n",
      "Please Trung!\n"
     ]
    }
   ],
   "source": [
    "#6.6\n",
    "favorite_languages = {\n",
    "    'Vu': 'Python',\n",
    "    'Luong': 'Python',\n",
    "    'Nguyet': 'HTML',\n",
    "    'Ha': 'C++',\n",
    "    }\n",
    "\n",
    "people_list = ['Luong', 'Vu', 'Tuan', 'Minh', 'Trung']\n",
    "\n",
    "for people in people_list:\n",
    "    if people in favorite_languages:\n",
    "        print(f\"\\nThanks {people}!\")\n",
    "    else:\n",
    "        print(f\"\\nPlease {people}!\")"
   ]
  },
  {
   "cell_type": "code",
   "execution_count": 48,
   "id": "85146873",
   "metadata": {},
   "outputs": [
    {
     "name": "stdout",
     "output_type": "stream",
     "text": [
      "{'color': 'red', 'points': 10, 'speed': 'medium'}\n",
      "{'color': 'red', 'points': 10, 'speed': 'medium'}\n",
      "{'color': 'red', 'points': 10, 'speed': 'medium'}\n",
      "{'color': 'purple', 'points': 15, 'speed': 'fast'}\n",
      "{'color': 'purple', 'points': 15, 'speed': 'fast'}\n",
      "{'color': 'purple', 'points': 15, 'speed': 'fast'}\n",
      "{'color': 'purple', 'points': 15, 'speed': 'fast'}\n",
      "{'color': 'purple', 'points': 15, 'speed': 'fast'}\n",
      "{'color': 'purple', 'points': 15, 'speed': 'fast'}\n",
      "{'color': 'purple', 'points': 15, 'speed': 'fast'}\n",
      "{'color': 'purple', 'points': 15, 'speed': 'fast'}\n",
      "{'color': 'gold', 'points': '100', 'speed': 'extremely fast'}\n",
      "{'color': 'gold', 'points': '100', 'speed': 'extremely fast'}\n",
      "{'color': 'gold', 'points': '100', 'speed': 'extremely fast'}\n",
      "{'color': 'gold', 'points': '100', 'speed': 'extremely fast'}\n",
      "{'color': 'gold', 'points': '100', 'speed': 'extremely fast'}\n",
      "{'color': 'gold', 'points': '100', 'speed': 'extremely fast'}\n",
      "{'color': 'gold', 'points': '100', 'speed': 'extremely fast'}\n",
      "{'color': 'gold', 'points': '100', 'speed': 'extremely fast'}\n",
      "{'color': 'gold', 'points': '100', 'speed': 'extremely fast'}\n",
      "{'color': 'gold', 'points': '100', 'speed': 'extremely fast'}\n",
      "{'color': 'gold', 'points': '100', 'speed': 'extremely fast'}\n",
      "{'color': 'gold', 'points': '100', 'speed': 'extremely fast'}\n",
      "{'color': 'gold', 'points': '100', 'speed': 'extremely fast'}\n",
      "{'color': 'gold', 'points': '100', 'speed': 'extremely fast'}\n",
      "{'color': 'gold', 'points': '100', 'speed': 'extremely fast'}\n",
      "{'color': 'gold', 'points': '100', 'speed': 'extremely fast'}\n",
      "{'color': 'gold', 'points': '100', 'speed': 'extremely fast'}\n",
      "{'color': 'gold', 'points': '100', 'speed': 'extremely fast'}\n",
      "{'color': 'gold', 'points': '100', 'speed': 'extremely fast'}\n"
     ]
    }
   ],
   "source": [
    "#---------NESTING FEATURE--------------\n",
    "#A list of Dictionaries\n",
    "aliens = []\n",
    "for i in range (30):\n",
    "    new_alien = {'color': 'green', 'points': 5, 'speed': 'slow'}\n",
    "    aliens.append(new_alien)\n",
    "\n",
    "for alien in aliens[:3]:\n",
    "    if alien['color'] == 'green':\n",
    "        alien['color'] = 'red'\n",
    "        alien['points'] = 10\n",
    "        alien['speed'] = 'medium'\n",
    "\n",
    "for alien in aliens[3:11]:\n",
    "    if alien['color'] == 'green':\n",
    "        alien['color'] = 'purple'\n",
    "        alien['points'] = 15\n",
    "        alien['speed'] = 'fast'\n",
    "        \n",
    "for alien in aliens[11:]:\n",
    "    if alien['color'] == 'green':\n",
    "        alien['color'] = 'gold'\n",
    "        alien['points'] = '100'\n",
    "        alien['speed'] = 'extremely fast'\n",
    "        \n",
    "for alien in aliens:\n",
    "    print(alien)"
   ]
  },
  {
   "cell_type": "code",
   "execution_count": 51,
   "id": "eddce0da",
   "metadata": {},
   "outputs": [
    {
     "name": "stdout",
     "output_type": "stream",
     "text": [
      "You ordered a thick-crust pizza with the following toppings:\n",
      "\tmushrooms\n",
      "\tsquids\n",
      "\ttomatoes\n",
      "\tpinapples\n",
      "\tfried chicken\n"
     ]
    }
   ],
   "source": [
    "#A List in a Dictionary\n",
    "pizza = {\n",
    "    'crust': 'thick',\n",
    "    'toppings': ['mushrooms', 'squids', 'tomatoes', 'pinapples', 'fried chicken']\n",
    "    }\n",
    "    \n",
    "print(f\"You ordered a {pizza['crust']}-crust pizza \"\n",
    "     \"with the following toppings:\")\n",
    "    \n",
    "for topping in pizza['toppings']:\n",
    "    print(f'\\t{topping}')"
   ]
  },
  {
   "cell_type": "code",
   "execution_count": 62,
   "id": "6f796c33",
   "metadata": {},
   "outputs": [
    {
     "name": "stdout",
     "output_type": "stream",
     "text": [
      "Username: Vu\n",
      "\tFull name: Vu Hoang Le\n",
      "\tLocation: Hà Nội\n",
      "Username: Hang\n",
      "\tFull name: Hang Thu Dao\n",
      "\tLocation: Thanh Hoa\n",
      "Vu\n",
      "{'first': 'Vu', 'middle': 'Hoang', 'last': 'Le', 'location': 'Hà Nội'}\n",
      "Hang\n",
      "{'first': 'Hang', 'middle': 'Thu', 'last': 'Dao', 'location': 'Thanh Hoa'}\n"
     ]
    }
   ],
   "source": [
    "#A Dictionary in a Dictionary\n",
    "users = {\n",
    "    'Vu': {\n",
    "        'first': 'Vu',\n",
    "        'middle': 'Hoang',\n",
    "        'last': 'Le',\n",
    "        'location': 'Hà Nội',\n",
    "    },\n",
    "    'Hang': {\n",
    "        'first': 'Hang',\n",
    "        'middle': 'Thu',\n",
    "        'last': 'Dao',\n",
    "        'location': 'Thanh Hoa'\n",
    "    }\n",
    "}\n",
    "\n",
    "for user, user_info in users.items():\n",
    "    print(f\"Username: {user}\")\n",
    "    full_name = f\"{user_info['first']} {user_info['middle']} {user_info['last']}\"\n",
    "    location = user_info['location']\n",
    "    \n",
    "    print(f\"\\tFull name: {full_name}\")\n",
    "    print(f\"\\tLocation: {location}\")\n"
   ]
  },
  {
   "cell_type": "code",
   "execution_count": 64,
   "id": "8ea644cc",
   "metadata": {},
   "outputs": [
    {
     "name": "stdout",
     "output_type": "stream",
     "text": [
      "\n",
      "Name: Nguyen Thi Thanh Huyen\n",
      "DoB: 1979\n",
      "Phone: +84942050113\n",
      "Location: Soc Son, Ha Noi\n",
      "\n",
      "Name: Le Van Hai\n",
      "DoB: 1974\n",
      "Phone: +84913318580\n",
      "Location: Soc Son, Ha Noi\n"
     ]
    }
   ],
   "source": [
    "#Try It Yourself\n",
    "\n",
    "mom_information = {\n",
    "    'name': 'Nguyen Thi Thanh Huyen',\n",
    "    'DoB': '1979',\n",
    "    'Phone': '+84942050113',\n",
    "    'Location': 'Soc Son, Ha Noi'\n",
    "}\n",
    "\n",
    "dad_information = {\n",
    "    'name': 'Le Van Hai',\n",
    "    'DoB': '1974',\n",
    "    'Phone': '+84913318580',\n",
    "    'Location': 'Soc Son, Ha Noi',\n",
    "}\n",
    "\n",
    "people_list = [mom_information, dad_information]\n",
    "\n",
    "for person in people_list:\n",
    "    name = person['name']\n",
    "    dob = person['DoB']\n",
    "    fone = person['Phone']\n",
    "    location = person['Location']\n",
    "    \n",
    "    print(f\"\\nName: {name}\"\n",
    "          f\"\\nDoB: {dob}\"\n",
    "          f\"\\nPhone: {fone}\"\n",
    "          f\"\\nLocation: {location}\")"
   ]
  },
  {
   "cell_type": "code",
   "execution_count": 69,
   "id": "39a216cb",
   "metadata": {},
   "outputs": [
    {
     "name": "stdout",
     "output_type": "stream",
     "text": [
      "\n",
      "John like to go to:\n",
      "Red River\n",
      "FLC Dai Lai\n",
      "Tam Dao\n",
      "\n",
      "Vu like to go to:\n",
      "Ba Na Hills\n",
      "Sapa\n",
      "\n",
      "Keny like to go to:\n",
      "Porland\n",
      "Singapore\n",
      "Thailand\n",
      "Laos\n"
     ]
    }
   ],
   "source": [
    "#6.9\n",
    "favorite_places = {\n",
    "    'John': ['Red River', 'FLC Dai Lai', 'Tam Dao'],\n",
    "    'Vu': ['Ba Na Hills', 'Sapa'],\n",
    "    'Keny': ['Porland', 'Singapore', 'Thailand', 'Laos']\n",
    "}\n",
    "\n",
    "for person in favorite_places:\n",
    "    print(f\"\\n{person} like to go to:\")\n",
    "    for place in favorite_places[person]:\n",
    "        print(place)"
   ]
  },
  {
   "cell_type": "code",
   "execution_count": 73,
   "id": "67bbae9a",
   "metadata": {},
   "outputs": [
    {
     "name": "stdout",
     "output_type": "stream",
     "text": [
      "\n",
      "Ha Noi city:\n",
      "\tPopulations: 4874982\n",
      "\tFact: The capital of Vietnam\n",
      "\n",
      "Da Nang city:\n",
      "\tPopulations: 1157000\n",
      "\tFact: The most beautiful place of Vietnam\n",
      "\n",
      "Ho Chi Minh city:\n",
      "\tPopulations: 8993000\n",
      "\tFact: The biggest entertainment place of Vietnam\n"
     ]
    }
   ],
   "source": [
    "#6.11\n",
    "\n",
    "cities = {\n",
    "    'Ha Noi': {\n",
    "        'population': 4_874_982,\n",
    "        'fact': 'The capital of Vietnam',\n",
    "    },\n",
    "    'Da Nang': {\n",
    "        'population': 1_157_000,\n",
    "        'fact': 'The most beautiful place of Vietnam',\n",
    "    },\n",
    "    'Ho Chi Minh': {\n",
    "        'population': 8_993_000,\n",
    "        'fact': 'The biggest entertainment place of Vietnam'\n",
    "    }\n",
    "}\n",
    "\n",
    "for name, city in cities.items():\n",
    "    print(f\"\\n{name} city:\")\n",
    "    popu = city['population']\n",
    "    fa = city ['fact']\n",
    "    print(f\"\\tPopulations: {popu}\"\n",
    "          f\"\\n\\tFact: {fa}\")"
   ]
  }
 ],
 "metadata": {
  "kernelspec": {
   "display_name": "Python 3",
   "language": "python",
   "name": "python3"
  },
  "language_info": {
   "codemirror_mode": {
    "name": "ipython",
    "version": 3
   },
   "file_extension": ".py",
   "mimetype": "text/x-python",
   "name": "python",
   "nbconvert_exporter": "python",
   "pygments_lexer": "ipython3",
   "version": "3.8.8"
  }
 },
 "nbformat": 4,
 "nbformat_minor": 5
}
